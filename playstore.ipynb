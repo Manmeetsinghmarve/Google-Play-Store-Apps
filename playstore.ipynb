{
 "cells": [
  {
   "cell_type": "code",
   "execution_count": 3,
   "id": "0ee9d9d4-c5ed-4f0e-9fe9-ee75109cfed7",
   "metadata": {},
   "outputs": [
    {
     "name": "stdout",
     "output_type": "stream",
     "text": [
      "✅ Sentiment summary saved. Ready to integrate into main analysis.\n"
     ]
    }
   ],
   "source": [
    "import pandas as pd\n",
    "\n",
    "# Load the reviews data\n",
    "reviews = pd.read_csv(\"googleplaystore_user_reviews.csv\")  # Change to actual filename\n",
    "\n",
    "# Drop missing sentiment values\n",
    "reviews = reviews.dropna(subset=['Sentiment_Polarity'])\n",
    "\n",
    "# Calculate average sentiment and count of reviews per app\n",
    "sentiment_summary = reviews.groupby('App').agg(\n",
    "    Avg_Sentiment=('Sentiment_Polarity', 'mean'),\n",
    "    Review_Count=('Sentiment_Polarity', 'count')\n",
    ").reset_index()\n",
    "\n",
    "# Save to file\n",
    "sentiment_summary.to_csv(\"average_sentiment_per_app.csv\", index=False)\n",
    "print(\"✅ Sentiment summary saved. Ready to integrate into main analysis.\")\n"
   ]
  }
 ],
 "metadata": {
  "kernelspec": {
   "display_name": "Python 3 (ipykernel)",
   "language": "python",
   "name": "python3"
  },
  "language_info": {
   "codemirror_mode": {
    "name": "ipython",
    "version": 3
   },
   "file_extension": ".py",
   "mimetype": "text/x-python",
   "name": "python",
   "nbconvert_exporter": "python",
   "pygments_lexer": "ipython3",
   "version": "3.13.2"
  },
  "widgets": {
   "application/vnd.jupyter.widget-state+json": {
    "state": {},
    "version_major": 2,
    "version_minor": 0
   }
  }
 },
 "nbformat": 4,
 "nbformat_minor": 5
}
